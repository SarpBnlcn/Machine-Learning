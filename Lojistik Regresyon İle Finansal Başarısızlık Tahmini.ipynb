{
 "cells": [
  {
   "cell_type": "markdown",
   "id": "8429484d",
   "metadata": {},
   "source": [
    "# Lojistik Regresyon İle Finansal Başarısızlık Tahmini\n"
   ]
  },
  {
   "cell_type": "code",
   "execution_count": 1,
   "id": "3e903229",
   "metadata": {},
   "outputs": [
    {
     "data": {
      "text/html": [
       "<div>\n",
       "<style scoped>\n",
       "    .dataframe tbody tr th:only-of-type {\n",
       "        vertical-align: middle;\n",
       "    }\n",
       "\n",
       "    .dataframe tbody tr th {\n",
       "        vertical-align: top;\n",
       "    }\n",
       "\n",
       "    .dataframe thead th {\n",
       "        text-align: right;\n",
       "    }\n",
       "</style>\n",
       "<table border=\"1\" class=\"dataframe\">\n",
       "  <thead>\n",
       "    <tr style=\"text-align: right;\">\n",
       "      <th></th>\n",
       "      <th>BaşarıDurumu</th>\n",
       "      <th>KısaVadeliYükümlülüklerToplamKaynaklar</th>\n",
       "      <th>ToplamYabanncıKaynaklarÖzkaynaklar</th>\n",
       "      <th>DuranVarlıklarVarlıkAktifToplamı</th>\n",
       "      <th>ÖzkaynakKarlılığı</th>\n",
       "      <th>DönenVarlıklarDevirHızı</th>\n",
       "      <th>ÖzkaynakDevirHızı</th>\n",
       "      <th>NÇDDH</th>\n",
       "    </tr>\n",
       "  </thead>\n",
       "  <tbody>\n",
       "    <tr>\n",
       "      <th>0</th>\n",
       "      <td>0</td>\n",
       "      <td>0.24</td>\n",
       "      <td>2.60</td>\n",
       "      <td>0.81</td>\n",
       "      <td>0.11</td>\n",
       "      <td>2.65</td>\n",
       "      <td>1.84</td>\n",
       "      <td>-10.61</td>\n",
       "    </tr>\n",
       "    <tr>\n",
       "      <th>1</th>\n",
       "      <td>1</td>\n",
       "      <td>0.23</td>\n",
       "      <td>2.94</td>\n",
       "      <td>0.71</td>\n",
       "      <td>0.25</td>\n",
       "      <td>1.81</td>\n",
       "      <td>2.06</td>\n",
       "      <td>8.33</td>\n",
       "    </tr>\n",
       "    <tr>\n",
       "      <th>2</th>\n",
       "      <td>1</td>\n",
       "      <td>0.37</td>\n",
       "      <td>2.88</td>\n",
       "      <td>0.71</td>\n",
       "      <td>0.34</td>\n",
       "      <td>2.88</td>\n",
       "      <td>3.28</td>\n",
       "      <td>-11.19</td>\n",
       "    </tr>\n",
       "    <tr>\n",
       "      <th>3</th>\n",
       "      <td>1</td>\n",
       "      <td>0.58</td>\n",
       "      <td>1.42</td>\n",
       "      <td>0.03</td>\n",
       "      <td>0.12</td>\n",
       "      <td>2.75</td>\n",
       "      <td>6.45</td>\n",
       "      <td>6.80</td>\n",
       "    </tr>\n",
       "    <tr>\n",
       "      <th>4</th>\n",
       "      <td>0</td>\n",
       "      <td>0.22</td>\n",
       "      <td>0.77</td>\n",
       "      <td>0.96</td>\n",
       "      <td>-0.04</td>\n",
       "      <td>4.20</td>\n",
       "      <td>0.29</td>\n",
       "      <td>-0.91</td>\n",
       "    </tr>\n",
       "  </tbody>\n",
       "</table>\n",
       "</div>"
      ],
      "text/plain": [
       "   BaşarıDurumu  KısaVadeliYükümlülüklerToplamKaynaklar  \\\n",
       "0             0                                    0.24   \n",
       "1             1                                    0.23   \n",
       "2             1                                    0.37   \n",
       "3             1                                    0.58   \n",
       "4             0                                    0.22   \n",
       "\n",
       "   ToplamYabanncıKaynaklarÖzkaynaklar  DuranVarlıklarVarlıkAktifToplamı  \\\n",
       "0                                2.60                              0.81   \n",
       "1                                2.94                              0.71   \n",
       "2                                2.88                              0.71   \n",
       "3                                1.42                              0.03   \n",
       "4                                0.77                              0.96   \n",
       "\n",
       "   ÖzkaynakKarlılığı  DönenVarlıklarDevirHızı  ÖzkaynakDevirHızı  NÇDDH  \n",
       "0               0.11                     2.65               1.84 -10.61  \n",
       "1               0.25                     1.81               2.06   8.33  \n",
       "2               0.34                     2.88               3.28 -11.19  \n",
       "3               0.12                     2.75               6.45   6.80  \n",
       "4              -0.04                     4.20               0.29  -0.91  "
      ]
     },
     "execution_count": 1,
     "metadata": {},
     "output_type": "execute_result"
    }
   ],
   "source": [
    "import pandas as pd\n",
    "import numpy as np\n",
    "import matplotlib.pyplot as plt\n",
    "import seaborn as sns\n",
    "import statsmodels.api as sm\n",
    "import sklearn.metrics as mt\n",
    "import warnings\n",
    "from sklearn.metrics import f1_score\n",
    "from sklearn.metrics import classification_report, roc_curve, accuracy_score, confusion_matrix, roc_auc_score,accuracy_score\n",
    "from sklearn.linear_model import LogisticRegression\n",
    "from sklearn.datasets import make_classification, make_blobs\n",
    "from sklearn.model_selection import train_test_split\n",
    "from sklearn.linear_model import LogisticRegression\n",
    "from sklearn import metrics\n",
    "warnings.filterwarnings('ignore')\n",
    "\n",
    "veri = pd.read_excel(\"C:/Users/sarp/OneDrive/Masaüstü/veri.xlsx\")\n",
    "veri.head()"
   ]
  },
  {
   "cell_type": "code",
   "execution_count": 2,
   "id": "c8c0865e",
   "metadata": {},
   "outputs": [
    {
     "data": {
      "text/plain": [
       "BaşarıDurumu\n",
       "1    7\n",
       "0    2\n",
       "Name: count, dtype: int64"
      ]
     },
     "execution_count": 2,
     "metadata": {},
     "output_type": "execute_result"
    }
   ],
   "source": [
    "veri[\"BaşarıDurumu\"].value_counts()"
   ]
  },
  {
   "cell_type": "code",
   "execution_count": 3,
   "id": "b0b390bb",
   "metadata": {},
   "outputs": [
    {
     "data": {
      "text/html": [
       "<div>\n",
       "<style scoped>\n",
       "    .dataframe tbody tr th:only-of-type {\n",
       "        vertical-align: middle;\n",
       "    }\n",
       "\n",
       "    .dataframe tbody tr th {\n",
       "        vertical-align: top;\n",
       "    }\n",
       "\n",
       "    .dataframe thead th {\n",
       "        text-align: right;\n",
       "    }\n",
       "</style>\n",
       "<table border=\"1\" class=\"dataframe\">\n",
       "  <thead>\n",
       "    <tr style=\"text-align: right;\">\n",
       "      <th></th>\n",
       "      <th>count</th>\n",
       "      <th>mean</th>\n",
       "      <th>std</th>\n",
       "      <th>min</th>\n",
       "      <th>25%</th>\n",
       "      <th>50%</th>\n",
       "      <th>75%</th>\n",
       "      <th>max</th>\n",
       "    </tr>\n",
       "  </thead>\n",
       "  <tbody>\n",
       "    <tr>\n",
       "      <th>BaşarıDurumu</th>\n",
       "      <td>9.0</td>\n",
       "      <td>0.777778</td>\n",
       "      <td>0.440959</td>\n",
       "      <td>0.00</td>\n",
       "      <td>1.00</td>\n",
       "      <td>1.00</td>\n",
       "      <td>1.00</td>\n",
       "      <td>1.00</td>\n",
       "    </tr>\n",
       "    <tr>\n",
       "      <th>KısaVadeliYükümlülüklerToplamKaynaklar</th>\n",
       "      <td>9.0</td>\n",
       "      <td>0.381111</td>\n",
       "      <td>0.169148</td>\n",
       "      <td>0.22</td>\n",
       "      <td>0.24</td>\n",
       "      <td>0.37</td>\n",
       "      <td>0.47</td>\n",
       "      <td>0.69</td>\n",
       "    </tr>\n",
       "    <tr>\n",
       "      <th>ToplamYabanncıKaynaklarÖzkaynaklar</th>\n",
       "      <td>9.0</td>\n",
       "      <td>4.140000</td>\n",
       "      <td>6.601290</td>\n",
       "      <td>0.50</td>\n",
       "      <td>1.20</td>\n",
       "      <td>2.60</td>\n",
       "      <td>2.94</td>\n",
       "      <td>21.52</td>\n",
       "    </tr>\n",
       "    <tr>\n",
       "      <th>DuranVarlıklarVarlıkAktifToplamı</th>\n",
       "      <td>9.0</td>\n",
       "      <td>0.600000</td>\n",
       "      <td>0.296690</td>\n",
       "      <td>0.03</td>\n",
       "      <td>0.43</td>\n",
       "      <td>0.71</td>\n",
       "      <td>0.81</td>\n",
       "      <td>0.96</td>\n",
       "    </tr>\n",
       "    <tr>\n",
       "      <th>ÖzkaynakKarlılığı</th>\n",
       "      <td>9.0</td>\n",
       "      <td>0.248889</td>\n",
       "      <td>0.200028</td>\n",
       "      <td>-0.04</td>\n",
       "      <td>0.11</td>\n",
       "      <td>0.25</td>\n",
       "      <td>0.35</td>\n",
       "      <td>0.56</td>\n",
       "    </tr>\n",
       "    <tr>\n",
       "      <th>DönenVarlıklarDevirHızı</th>\n",
       "      <td>9.0</td>\n",
       "      <td>2.774444</td>\n",
       "      <td>1.064767</td>\n",
       "      <td>0.62</td>\n",
       "      <td>2.65</td>\n",
       "      <td>2.88</td>\n",
       "      <td>3.11</td>\n",
       "      <td>4.20</td>\n",
       "    </tr>\n",
       "    <tr>\n",
       "      <th>ÖzkaynakDevirHızı</th>\n",
       "      <td>9.0</td>\n",
       "      <td>4.011111</td>\n",
       "      <td>3.453992</td>\n",
       "      <td>0.29</td>\n",
       "      <td>1.84</td>\n",
       "      <td>3.28</td>\n",
       "      <td>6.45</td>\n",
       "      <td>10.45</td>\n",
       "    </tr>\n",
       "    <tr>\n",
       "      <th>NÇDDH</th>\n",
       "      <td>9.0</td>\n",
       "      <td>5.351111</td>\n",
       "      <td>25.745580</td>\n",
       "      <td>-14.45</td>\n",
       "      <td>-10.61</td>\n",
       "      <td>-0.91</td>\n",
       "      <td>6.80</td>\n",
       "      <td>70.67</td>\n",
       "    </tr>\n",
       "  </tbody>\n",
       "</table>\n",
       "</div>"
      ],
      "text/plain": [
       "                                        count      mean        std    min  \\\n",
       "BaşarıDurumu                              9.0  0.777778   0.440959   0.00   \n",
       "KısaVadeliYükümlülüklerToplamKaynaklar    9.0  0.381111   0.169148   0.22   \n",
       "ToplamYabanncıKaynaklarÖzkaynaklar        9.0  4.140000   6.601290   0.50   \n",
       "DuranVarlıklarVarlıkAktifToplamı          9.0  0.600000   0.296690   0.03   \n",
       "ÖzkaynakKarlılığı                         9.0  0.248889   0.200028  -0.04   \n",
       "DönenVarlıklarDevirHızı                   9.0  2.774444   1.064767   0.62   \n",
       "ÖzkaynakDevirHızı                         9.0  4.011111   3.453992   0.29   \n",
       "NÇDDH                                     9.0  5.351111  25.745580 -14.45   \n",
       "\n",
       "                                          25%   50%   75%    max  \n",
       "BaşarıDurumu                             1.00  1.00  1.00   1.00  \n",
       "KısaVadeliYükümlülüklerToplamKaynaklar   0.24  0.37  0.47   0.69  \n",
       "ToplamYabanncıKaynaklarÖzkaynaklar       1.20  2.60  2.94  21.52  \n",
       "DuranVarlıklarVarlıkAktifToplamı         0.43  0.71  0.81   0.96  \n",
       "ÖzkaynakKarlılığı                        0.11  0.25  0.35   0.56  \n",
       "DönenVarlıklarDevirHızı                  2.65  2.88  3.11   4.20  \n",
       "ÖzkaynakDevirHızı                        1.84  3.28  6.45  10.45  \n",
       "NÇDDH                                  -10.61 -0.91  6.80  70.67  "
      ]
     },
     "execution_count": 3,
     "metadata": {},
     "output_type": "execute_result"
    }
   ],
   "source": [
    "veri.describe().T"
   ]
  },
  {
   "cell_type": "code",
   "execution_count": 4,
   "id": "02271bb8",
   "metadata": {},
   "outputs": [],
   "source": [
    "y=veri[\"BaşarıDurumu\"]\n",
    "x=veri.drop([\"BaşarıDurumu\"],axis=1)"
   ]
  },
  {
   "cell_type": "code",
   "execution_count": 5,
   "id": "cfdb6d37",
   "metadata": {},
   "outputs": [
    {
     "data": {
      "text/plain": [
       "0    0\n",
       "1    1\n",
       "2    1\n",
       "3    1\n",
       "4    0\n",
       "Name: BaşarıDurumu, dtype: int64"
      ]
     },
     "execution_count": 5,
     "metadata": {},
     "output_type": "execute_result"
    }
   ],
   "source": [
    "y.head()"
   ]
  },
  {
   "cell_type": "code",
   "execution_count": 6,
   "id": "f023864d",
   "metadata": {},
   "outputs": [
    {
     "data": {
      "text/html": [
       "<div>\n",
       "<style scoped>\n",
       "    .dataframe tbody tr th:only-of-type {\n",
       "        vertical-align: middle;\n",
       "    }\n",
       "\n",
       "    .dataframe tbody tr th {\n",
       "        vertical-align: top;\n",
       "    }\n",
       "\n",
       "    .dataframe thead th {\n",
       "        text-align: right;\n",
       "    }\n",
       "</style>\n",
       "<table border=\"1\" class=\"dataframe\">\n",
       "  <thead>\n",
       "    <tr style=\"text-align: right;\">\n",
       "      <th></th>\n",
       "      <th>KısaVadeliYükümlülüklerToplamKaynaklar</th>\n",
       "      <th>ToplamYabanncıKaynaklarÖzkaynaklar</th>\n",
       "      <th>DuranVarlıklarVarlıkAktifToplamı</th>\n",
       "      <th>ÖzkaynakKarlılığı</th>\n",
       "      <th>DönenVarlıklarDevirHızı</th>\n",
       "      <th>ÖzkaynakDevirHızı</th>\n",
       "      <th>NÇDDH</th>\n",
       "    </tr>\n",
       "  </thead>\n",
       "  <tbody>\n",
       "    <tr>\n",
       "      <th>0</th>\n",
       "      <td>0.24</td>\n",
       "      <td>2.60</td>\n",
       "      <td>0.81</td>\n",
       "      <td>0.11</td>\n",
       "      <td>2.65</td>\n",
       "      <td>1.84</td>\n",
       "      <td>-10.61</td>\n",
       "    </tr>\n",
       "    <tr>\n",
       "      <th>1</th>\n",
       "      <td>0.23</td>\n",
       "      <td>2.94</td>\n",
       "      <td>0.71</td>\n",
       "      <td>0.25</td>\n",
       "      <td>1.81</td>\n",
       "      <td>2.06</td>\n",
       "      <td>8.33</td>\n",
       "    </tr>\n",
       "    <tr>\n",
       "      <th>2</th>\n",
       "      <td>0.37</td>\n",
       "      <td>2.88</td>\n",
       "      <td>0.71</td>\n",
       "      <td>0.34</td>\n",
       "      <td>2.88</td>\n",
       "      <td>3.28</td>\n",
       "      <td>-11.19</td>\n",
       "    </tr>\n",
       "    <tr>\n",
       "      <th>3</th>\n",
       "      <td>0.58</td>\n",
       "      <td>1.42</td>\n",
       "      <td>0.03</td>\n",
       "      <td>0.12</td>\n",
       "      <td>2.75</td>\n",
       "      <td>6.45</td>\n",
       "      <td>6.80</td>\n",
       "    </tr>\n",
       "    <tr>\n",
       "      <th>4</th>\n",
       "      <td>0.22</td>\n",
       "      <td>0.77</td>\n",
       "      <td>0.96</td>\n",
       "      <td>-0.04</td>\n",
       "      <td>4.20</td>\n",
       "      <td>0.29</td>\n",
       "      <td>-0.91</td>\n",
       "    </tr>\n",
       "  </tbody>\n",
       "</table>\n",
       "</div>"
      ],
      "text/plain": [
       "   KısaVadeliYükümlülüklerToplamKaynaklar  ToplamYabanncıKaynaklarÖzkaynaklar  \\\n",
       "0                                    0.24                                2.60   \n",
       "1                                    0.23                                2.94   \n",
       "2                                    0.37                                2.88   \n",
       "3                                    0.58                                1.42   \n",
       "4                                    0.22                                0.77   \n",
       "\n",
       "   DuranVarlıklarVarlıkAktifToplamı  ÖzkaynakKarlılığı  \\\n",
       "0                              0.81               0.11   \n",
       "1                              0.71               0.25   \n",
       "2                              0.71               0.34   \n",
       "3                              0.03               0.12   \n",
       "4                              0.96              -0.04   \n",
       "\n",
       "   DönenVarlıklarDevirHızı  ÖzkaynakDevirHızı  NÇDDH  \n",
       "0                     2.65               1.84 -10.61  \n",
       "1                     1.81               2.06   8.33  \n",
       "2                     2.88               3.28 -11.19  \n",
       "3                     2.75               6.45   6.80  \n",
       "4                     4.20               0.29  -0.91  "
      ]
     },
     "execution_count": 6,
     "metadata": {},
     "output_type": "execute_result"
    }
   ],
   "source": [
    "x.head()"
   ]
  },
  {
   "cell_type": "code",
   "execution_count": 7,
   "id": "7486ecb7",
   "metadata": {},
   "outputs": [],
   "source": [
    "Logistic_Regression_Model=LogisticRegression(solver=\"liblinear\").fit(x,y)"
   ]
  },
  {
   "cell_type": "code",
   "execution_count": 8,
   "id": "780960fb",
   "metadata": {},
   "outputs": [
    {
     "data": {
      "text/plain": [
       "array([0.15025584])"
      ]
     },
     "execution_count": 8,
     "metadata": {},
     "output_type": "execute_result"
    }
   ],
   "source": [
    "Logistic_Regression_Model.intercept_"
   ]
  },
  {
   "cell_type": "code",
   "execution_count": 9,
   "id": "40c946a4",
   "metadata": {},
   "outputs": [
    {
     "data": {
      "text/plain": [
       "array([[ 0.09765442,  0.26520671, -0.10123745,  0.26809556, -0.42315428,\n",
       "         0.86983746,  0.18002176]])"
      ]
     },
     "execution_count": 9,
     "metadata": {},
     "output_type": "execute_result"
    }
   ],
   "source": [
    "Logistic_Regression_Model.coef_"
   ]
  },
  {
   "cell_type": "markdown",
   "id": "5e214cf7",
   "metadata": {},
   "source": [
    "# Tahmin Edilen Değerler"
   ]
  },
  {
   "cell_type": "code",
   "execution_count": 10,
   "id": "da60e52b",
   "metadata": {},
   "outputs": [
    {
     "data": {
      "text/plain": [
       "array([0, 1, 1, 1, 0, 1, 1, 1, 1], dtype=int64)"
      ]
     },
     "execution_count": 10,
     "metadata": {},
     "output_type": "execute_result"
    }
   ],
   "source": [
    "Logistic_Regression_Model.predict(x)[0:9]"
   ]
  },
  {
   "cell_type": "markdown",
   "id": "c29407ad",
   "metadata": {},
   "source": [
    "# Gerçek Değerler"
   ]
  },
  {
   "cell_type": "code",
   "execution_count": 11,
   "id": "90968807",
   "metadata": {},
   "outputs": [
    {
     "data": {
      "text/plain": [
       "0    0\n",
       "1    1\n",
       "2    1\n",
       "3    1\n",
       "4    0\n",
       "5    1\n",
       "6    1\n",
       "7    1\n",
       "8    1\n",
       "Name: BaşarıDurumu, dtype: int64"
      ]
     },
     "execution_count": 11,
     "metadata": {},
     "output_type": "execute_result"
    }
   ],
   "source": [
    "y[0:9]"
   ]
  },
  {
   "cell_type": "code",
   "execution_count": 12,
   "id": "57ada54f",
   "metadata": {},
   "outputs": [],
   "source": [
    "y_tahmin=Logistic_Regression_Model.predict(x)"
   ]
  },
  {
   "cell_type": "code",
   "execution_count": 13,
   "id": "68d8bfb7",
   "metadata": {},
   "outputs": [
    {
     "data": {
      "text/plain": [
       "1.0"
      ]
     },
     "execution_count": 13,
     "metadata": {},
     "output_type": "execute_result"
    }
   ],
   "source": [
    "accuracy_score(y,y_tahmin)"
   ]
  },
  {
   "cell_type": "code",
   "execution_count": 14,
   "id": "1df928ef",
   "metadata": {},
   "outputs": [
    {
     "name": "stdout",
     "output_type": "stream",
     "text": [
      "              precision    recall  f1-score   support\n",
      "\n",
      "           0       1.00      1.00      1.00         2\n",
      "           1       1.00      1.00      1.00         7\n",
      "\n",
      "    accuracy                           1.00         9\n",
      "   macro avg       1.00      1.00      1.00         9\n",
      "weighted avg       1.00      1.00      1.00         9\n",
      "\n"
     ]
    }
   ],
   "source": [
    "print(classification_report(y, y_tahmin))"
   ]
  },
  {
   "cell_type": "code",
   "execution_count": 15,
   "id": "c15d05d6",
   "metadata": {},
   "outputs": [
    {
     "data": {
      "text/plain": [
       "array([0.34974273, 0.96991281, 0.64322661, 0.99813671, 0.1945397 ,\n",
       "       0.98195426, 0.9999984 , 0.71228242, 0.99999953])"
      ]
     },
     "execution_count": 15,
     "metadata": {},
     "output_type": "execute_result"
    }
   ],
   "source": [
    "Logistic_Regression_Model.predict_proba(x)[:,1]"
   ]
  },
  {
   "cell_type": "code",
   "execution_count": 16,
   "id": "4b58d062",
   "metadata": {},
   "outputs": [
    {
     "data": {
      "image/png": "[encoded data removed]",
      "text/plain": [
       "<Figure size 640x480 with 1 Axes>"
      ]
     },
     "metadata": {},
     "output_type": "display_data"
    }
   ],
   "source": [
    "Logistic_roc_auc = roc_auc_score(y, Logistic_Regression_Model.predict(x))\n",
    "fpr, tpr, thresholds = roc_curve(y, Logistic_Regression_Model.predict_proba(x)[:,1])\n",
    "plt.figure()\n",
    "plt.plot(fpr, tpr, 'b', label=f'ROC curve (AUC = {Logistic_roc_auc:.2f})')\n",
    "plt.plot([0, 1], [0, 1],'r--')\n",
    "plt.xlim([0.0, 1.0])\n",
    "plt.ylim([0.0, 1.05])\n",
    "plt.xlabel('False Positive Rate')\n",
    "plt.ylabel('True Positive Rate')\n",
    "plt.title('ROC curve')\n",
    "plt.legend(loc=\"lower right\")\n",
    "plt.savefig('ROC_curve.png')\n",
    "plt.show()"
   ]
  },
  {
   "cell_type": "markdown",
   "id": "c0af3108",
   "metadata": {},
   "source": [
    "# Accuracy & F1-Score"
   ]
  },
  {
   "cell_type": "code",
   "execution_count": 17,
   "id": "9c06c38f",
   "metadata": {},
   "outputs": [],
   "source": [
    "x_train,x_test,y_train,y_test=train_test_split(x,y,test_size=0.20,random_state=42)"
   ]
  },
  {
   "cell_type": "code",
   "execution_count": 18,
   "id": "39eef0d5",
   "metadata": {},
   "outputs": [
    {
     "data": {
      "text/html": [
       "<div>\n",
       "<style scoped>\n",
       "    .dataframe tbody tr th:only-of-type {\n",
       "        vertical-align: middle;\n",
       "    }\n",
       "\n",
       "    .dataframe tbody tr th {\n",
       "        vertical-align: top;\n",
       "    }\n",
       "\n",
       "    .dataframe thead th {\n",
       "        text-align: right;\n",
       "    }\n",
       "</style>\n",
       "<table border=\"1\" class=\"dataframe\">\n",
       "  <thead>\n",
       "    <tr style=\"text-align: right;\">\n",
       "      <th></th>\n",
       "      <th>KısaVadeliYükümlülüklerToplamKaynaklar</th>\n",
       "      <th>ToplamYabanncıKaynaklarÖzkaynaklar</th>\n",
       "      <th>DuranVarlıklarVarlıkAktifToplamı</th>\n",
       "      <th>ÖzkaynakKarlılığı</th>\n",
       "      <th>DönenVarlıklarDevirHızı</th>\n",
       "      <th>ÖzkaynakDevirHızı</th>\n",
       "      <th>NÇDDH</th>\n",
       "    </tr>\n",
       "  </thead>\n",
       "  <tbody>\n",
       "    <tr>\n",
       "      <th>5</th>\n",
       "      <td>0.69</td>\n",
       "      <td>3.43</td>\n",
       "      <td>0.43</td>\n",
       "      <td>0.48</td>\n",
       "      <td>3.06</td>\n",
       "      <td>7.68</td>\n",
       "      <td>-14.45</td>\n",
       "    </tr>\n",
       "    <tr>\n",
       "      <th>0</th>\n",
       "      <td>0.24</td>\n",
       "      <td>2.60</td>\n",
       "      <td>0.81</td>\n",
       "      <td>0.11</td>\n",
       "      <td>2.65</td>\n",
       "      <td>1.84</td>\n",
       "      <td>-10.61</td>\n",
       "    </tr>\n",
       "    <tr>\n",
       "      <th>8</th>\n",
       "      <td>0.38</td>\n",
       "      <td>1.20</td>\n",
       "      <td>0.60</td>\n",
       "      <td>0.35</td>\n",
       "      <td>3.89</td>\n",
       "      <td>3.40</td>\n",
       "      <td>70.67</td>\n",
       "    </tr>\n",
       "    <tr>\n",
       "      <th>2</th>\n",
       "      <td>0.37</td>\n",
       "      <td>2.88</td>\n",
       "      <td>0.71</td>\n",
       "      <td>0.34</td>\n",
       "      <td>2.88</td>\n",
       "      <td>3.28</td>\n",
       "      <td>-11.19</td>\n",
       "    </tr>\n",
       "    <tr>\n",
       "      <th>4</th>\n",
       "      <td>0.22</td>\n",
       "      <td>0.77</td>\n",
       "      <td>0.96</td>\n",
       "      <td>-0.04</td>\n",
       "      <td>4.20</td>\n",
       "      <td>0.29</td>\n",
       "      <td>-0.91</td>\n",
       "    </tr>\n",
       "  </tbody>\n",
       "</table>\n",
       "</div>"
      ],
      "text/plain": [
       "   KısaVadeliYükümlülüklerToplamKaynaklar  ToplamYabanncıKaynaklarÖzkaynaklar  \\\n",
       "5                                    0.69                                3.43   \n",
       "0                                    0.24                                2.60   \n",
       "8                                    0.38                                1.20   \n",
       "2                                    0.37                                2.88   \n",
       "4                                    0.22                                0.77   \n",
       "\n",
       "   DuranVarlıklarVarlıkAktifToplamı  ÖzkaynakKarlılığı  \\\n",
       "5                              0.43               0.48   \n",
       "0                              0.81               0.11   \n",
       "8                              0.60               0.35   \n",
       "2                              0.71               0.34   \n",
       "4                              0.96              -0.04   \n",
       "\n",
       "   DönenVarlıklarDevirHızı  ÖzkaynakDevirHızı  NÇDDH  \n",
       "5                     3.06               7.68 -14.45  \n",
       "0                     2.65               1.84 -10.61  \n",
       "8                     3.89               3.40  70.67  \n",
       "2                     2.88               3.28 -11.19  \n",
       "4                     4.20               0.29  -0.91  "
      ]
     },
     "execution_count": 18,
     "metadata": {},
     "output_type": "execute_result"
    }
   ],
   "source": [
    "x_train.head()"
   ]
  },
  {
   "cell_type": "code",
   "execution_count": 19,
   "id": "7899d626",
   "metadata": {},
   "outputs": [
    {
     "data": {
      "text/html": [
       "<div>\n",
       "<style scoped>\n",
       "    .dataframe tbody tr th:only-of-type {\n",
       "        vertical-align: middle;\n",
       "    }\n",
       "\n",
       "    .dataframe tbody tr th {\n",
       "        vertical-align: top;\n",
       "    }\n",
       "\n",
       "    .dataframe thead th {\n",
       "        text-align: right;\n",
       "    }\n",
       "</style>\n",
       "<table border=\"1\" class=\"dataframe\">\n",
       "  <thead>\n",
       "    <tr style=\"text-align: right;\">\n",
       "      <th></th>\n",
       "      <th>KısaVadeliYükümlülüklerToplamKaynaklar</th>\n",
       "      <th>ToplamYabanncıKaynaklarÖzkaynaklar</th>\n",
       "      <th>DuranVarlıklarVarlıkAktifToplamı</th>\n",
       "      <th>ÖzkaynakKarlılığı</th>\n",
       "      <th>DönenVarlıklarDevirHızı</th>\n",
       "      <th>ÖzkaynakDevirHızı</th>\n",
       "      <th>NÇDDH</th>\n",
       "    </tr>\n",
       "  </thead>\n",
       "  <tbody>\n",
       "    <tr>\n",
       "      <th>7</th>\n",
       "      <td>0.25</td>\n",
       "      <td>0.50</td>\n",
       "      <td>0.30</td>\n",
       "      <td>0.56</td>\n",
       "      <td>0.62</td>\n",
       "      <td>0.65</td>\n",
       "      <td>0.98</td>\n",
       "    </tr>\n",
       "    <tr>\n",
       "      <th>1</th>\n",
       "      <td>0.23</td>\n",
       "      <td>2.94</td>\n",
       "      <td>0.71</td>\n",
       "      <td>0.25</td>\n",
       "      <td>1.81</td>\n",
       "      <td>2.06</td>\n",
       "      <td>8.33</td>\n",
       "    </tr>\n",
       "  </tbody>\n",
       "</table>\n",
       "</div>"
      ],
      "text/plain": [
       "   KısaVadeliYükümlülüklerToplamKaynaklar  ToplamYabanncıKaynaklarÖzkaynaklar  \\\n",
       "7                                    0.25                                0.50   \n",
       "1                                    0.23                                2.94   \n",
       "\n",
       "   DuranVarlıklarVarlıkAktifToplamı  ÖzkaynakKarlılığı  \\\n",
       "7                              0.30               0.56   \n",
       "1                              0.71               0.25   \n",
       "\n",
       "   DönenVarlıklarDevirHızı  ÖzkaynakDevirHızı  NÇDDH  \n",
       "7                     0.62               0.65   0.98  \n",
       "1                     1.81               2.06   8.33  "
      ]
     },
     "execution_count": 19,
     "metadata": {},
     "output_type": "execute_result"
    }
   ],
   "source": [
    "x_test.head()"
   ]
  },
  {
   "cell_type": "code",
   "execution_count": 20,
   "id": "0e6c2009",
   "metadata": {},
   "outputs": [
    {
     "data": {
      "text/plain": [
       "5    1\n",
       "0    0\n",
       "8    1\n",
       "2    1\n",
       "4    0\n",
       "Name: BaşarıDurumu, dtype: int64"
      ]
     },
     "execution_count": 20,
     "metadata": {},
     "output_type": "execute_result"
    }
   ],
   "source": [
    "y_train.head()"
   ]
  },
  {
   "cell_type": "code",
   "execution_count": 21,
   "id": "1a424a83",
   "metadata": {},
   "outputs": [
    {
     "data": {
      "text/plain": [
       "7    1\n",
       "1    1\n",
       "Name: BaşarıDurumu, dtype: int64"
      ]
     },
     "execution_count": 21,
     "metadata": {},
     "output_type": "execute_result"
    }
   ],
   "source": [
    "y_test.head()"
   ]
  },
  {
   "cell_type": "code",
   "execution_count": 22,
   "id": "fa77905f",
   "metadata": {},
   "outputs": [],
   "source": [
    "Logistic_Regression_Model=LogisticRegression(solver=\"liblinear\").fit(x_train,y_train)\n"
   ]
  },
  {
   "cell_type": "code",
   "execution_count": 23,
   "id": "c0b267e8",
   "metadata": {},
   "outputs": [],
   "source": [
    "y_pred=Logistic_Regression_Model.predict(x_test)"
   ]
  },
  {
   "cell_type": "code",
   "execution_count": 24,
   "id": "2d5f3c6b",
   "metadata": {},
   "outputs": [
    {
     "name": "stdout",
     "output_type": "stream",
     "text": [
      "1.0\n"
     ]
    }
   ],
   "source": [
    "print(accuracy_score(y_test,y_pred))"
   ]
  },
  {
   "cell_type": "code",
   "execution_count": 25,
   "id": "03c30b2f",
   "metadata": {},
   "outputs": [
    {
     "name": "stdout",
     "output_type": "stream",
     "text": [
      "1.0\n"
     ]
    }
   ],
   "source": [
    "print(mt.f1_score(y_test,y_pred))"
   ]
  }
 ],
 "metadata": {
  "kernelspec": {
   "display_name": "Python 3 (ipykernel)",
   "language": "python",
   "name": "python3"
  },
  "language_info": {
   "codemirror_mode": {
    "name": "ipython",
    "version": 3
   },
   "file_extension": ".py",
   "mimetype": "text/x-python",
   "name": "python",
   "nbconvert_exporter": "python",
   "pygments_lexer": "ipython3",
   "version": "3.11.5"
  }
 },
 "nbformat": 4,
 "nbformat_minor": 5
}
